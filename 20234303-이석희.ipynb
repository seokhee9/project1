{
 "cells": [
  {
   "attachments": {},
   "cell_type": "markdown",
   "metadata": {},
   "source": [
    "# (2)차 숙제\n",
    "## 이름: 이석희\n",
    "## 학번: 20234303"
   ]
  },
  {
   "attachments": {},
   "cell_type": "markdown",
   "metadata": {},
   "source": [
    "## 4단원 핵심정리\n",
    "- 제어문이란 프로그램의 순차적 흐름이 아닌 조건에 맞는 실행가 반복을 하는 명령문이다.\n",
    "- 조건문이란 프로그래머가 명시한 특정 조건을 만족할 때에만 특정 블록이 실행되도록 하는 문법이다.\n",
    "- 조건문의 키워드인 if, elif의 다음에는 조건식이 나타나고 바로 이어서 실행문 블록이 시작되기 전에 클론(:)을 표시한다. 그리고 실행문 블록은 조건문의 키워드보다 들여쓰기를 해서 작성한다.\n",
    "- 조건식은 부울형인 True or False의 값을 가질 수 있다.\n",
    "- 블록은 같은 실행 흐름에서 순서대로 실행되는 코드의 집합을 의미한다.\n",
    "- 조건문에서 실행문 블록은 반드시 들여쓰기를 해주어야 한다.\n",
    "- if-elif-else 문에서 if 문의 조건식을 제일 먼저 조사하고, if 문의 조건식이 참이 아닐 때, elif 조건식을 검사하고, elif 문의 조건식도 참이 아닐 때에는 마지막으로 else 문의 블록을 실행한다.\n",
    "### 5단원 핵심정리\n",
    "- 문장들을 반복 실행하려면 for나 while을 사용한다.\n",
    "- 반복 실행되는 문장들을 들여쓰기 하여야 한다.\n",
    "- for 문은 반복 횟수가 정해져 있을 때 적합하다.\n",
    "- while 문은 반복 조건이 정해져 있을 때 유용하다.\n",
    "- while 반복문은 문장의 초입에서 조건식이 검사된다.\n",
    "- continue와 break는 루프제어를 위한 고급기능을 제공한다."
   ]
  },
  {
   "attachments": {},
   "cell_type": "markdown",
   "metadata": {},
   "source": [
    "## 4.1"
   ]
  },
  {
   "cell_type": "code",
   "execution_count": 2,
   "metadata": {},
   "outputs": [
    {
     "name": "stdout",
     "output_type": "stream",
     "text": [
      "t (은)는 자음입니다.\n"
     ]
    }
   ],
   "source": [
    "x = input('알파벳을 입력하시오 : ')\n",
    "if x=='a' or x=='e' or x=='i' or x=='o' or x=='u':\n",
    "    print(x, '(은)는 모음입니다.')\n",
    "else:\n",
    "    print(x, '(은)는 자음입니다.')"
   ]
  },
  {
   "attachments": {},
   "cell_type": "markdown",
   "metadata": {},
   "source": [
    "## 4.2"
   ]
  },
  {
   "cell_type": "code",
   "execution_count": 3,
   "metadata": {},
   "outputs": [
    {
     "name": "stdout",
     "output_type": "stream",
     "text": [
      "122 9 4\n"
     ]
    }
   ],
   "source": [
    "a, b, c = map(int, input('세 정수를 입력하시오 : ').split())\n",
    "if b>a and b>c:\n",
    "    a,b = b,a\n",
    "if c>a and c>b:\n",
    "    a,c = c,a\n",
    "if c>b:\n",
    "    b,c = c,b\n",
    "print(a,b,c)"
   ]
  },
  {
   "attachments": {},
   "cell_type": "markdown",
   "metadata": {},
   "source": [
    "## 4.3"
   ]
  },
  {
   "cell_type": "code",
   "execution_count": 5,
   "metadata": {},
   "outputs": [
    {
     "name": "stdout",
     "output_type": "stream",
     "text": [
      "Kid\n"
     ]
    }
   ],
   "source": [
    "age = int(input('나이를 입력하시오: '))\n",
    "\n",
    "if age >= 20:\n",
    "    print(\"Adult\")\n",
    "elif age >= 10 and age<20:\n",
    "    print(\"Youth\")\n",
    "else:\n",
    "    print(\"Kid\")"
   ]
  },
  {
   "attachments": {},
   "cell_type": "markdown",
   "metadata": {},
   "source": [
    "## 4.4"
   ]
  },
  {
   "cell_type": "code",
   "execution_count": 6,
   "metadata": {},
   "outputs": [
    {
     "name": "stdout",
     "output_type": "stream",
     "text": [
      "15 는(은) 2로 나누어지지 않습니다.\n",
      "15 는(은) 3으로 나누어 집니다.\n",
      "15 는(은) 2와(과) 3 모두로 나누어지지 않습니다.\n"
     ]
    }
   ],
   "source": [
    "x = int(input('정수를 입력하시오: '))\n",
    "\n",
    "if x % 2 ==0:\n",
    "    print(x, '는(은) 2로 나누어 집니다.')\n",
    "else:\n",
    "    print(x, '는(은) 2로 나누어지지 않습니다.')\n",
    "\n",
    "if x % 3 ==0:\n",
    "    print(x, '는(은) 3으로 나누어 집니다.')\n",
    "else:\n",
    "    print(x, '는(은) 3으로 나누어지지 않습니다.')\n",
    "\n",
    "if x%2==0 and x%3==0:\n",
    "    print(x, '는(은) 2와(과) 3 모두로 나누어 집니다.')\n",
    "else:\n",
    "    print(x, '는(은) 2와(과) 3 모두로 나누어지지 않습니다.')"
   ]
  },
  {
   "attachments": {},
   "cell_type": "markdown",
   "metadata": {},
   "source": [
    "## 4.5"
   ]
  },
  {
   "cell_type": "code",
   "execution_count": 7,
   "metadata": {},
   "outputs": [
    {
     "name": "stdout",
     "output_type": "stream",
     "text": [
      "당첨 번호:  [9, 6, 1]\n",
      "상금 1만원\n"
     ]
    }
   ],
   "source": [
    "import random\n",
    "input_nums = list(map(int, input(\"세 복권번호를 입력하시오: \").split()))\n",
    "nums = []\n",
    "for i in range(3):\n",
    "    n = random.randint(0, 9)\n",
    "    while n in nums:\n",
    "        n = random.randint(0, 9)\n",
    "    nums.append(n)\n",
    "\n",
    "print(\"당첨 번호: \", nums)\n",
    "\n",
    "a = 0\n",
    "\n",
    "for i in range(3):\n",
    "    if input_nums[i] in nums:\n",
    "        a += 1\n",
    "\n",
    "if a == 0:\n",
    "    print(\"다음 기회에...\")\n",
    "elif a == 1:\n",
    "    print(\"상금 1만원\")\n",
    "elif a == 2:\n",
    "    print(\"상금 1천만원\")\n",
    "else:\n",
    "    print(\"상금 1억원\")"
   ]
  },
  {
   "attachments": {},
   "cell_type": "markdown",
   "metadata": {},
   "source": [
    "## 4.6"
   ]
  },
  {
   "cell_type": "code",
   "execution_count": 8,
   "metadata": {},
   "outputs": [
    {
     "name": "stdout",
     "output_type": "stream",
     "text": [
      "우리식당에 오신것을 환영합니다. 메뉴는 다음과 같습니다.\n",
      "- 햄버거(입력 b) \n",
      "- 치킨(입력 c) \n",
      "- 피자(입력 p)\n",
      "치킨을 선택하였습니다.\n"
     ]
    }
   ],
   "source": [
    "print('우리식당에 오신것을 환영합니다. 메뉴는 다음과 같습니다.')\n",
    "print('- 햄버거(입력 b) \\n- 치킨(입력 c) \\n- 피자(입력 p)')\n",
    "menu = {\n",
    "    'b': '버거',\n",
    "    'c': '치킨',\n",
    "    'p': '피자'\n",
    "}\n",
    "order = input('메뉴를 선택하세요(알파벳 b, c, p 입력) : ')\n",
    "if order in menu:\n",
    "    print(\"{}을 선택하였습니다.\".format(menu[order]))\n",
    "else:\n",
    "    print(\"선택한 메뉴가 없습니다.\")"
   ]
  },
  {
   "attachments": {},
   "cell_type": "markdown",
   "metadata": {},
   "source": [
    "## 4.7"
   ]
  },
  {
   "cell_type": "code",
   "execution_count": 9,
   "metadata": {},
   "outputs": [
    {
     "name": "stdout",
     "output_type": "stream",
     "text": [
      "2 + 27 = 정답은 29 입니다.\n"
     ]
    }
   ],
   "source": [
    "import random\n",
    "\n",
    "x = random.randint(1, 100)\n",
    "y = random.randint(1, 100)\n",
    "\n",
    "print(x, '+', y, '=', end = ' ')\n",
    "answer = int(input())\n",
    "\n",
    "if answer==x+y:  \n",
    "    print(\"잘했어요!!\")\n",
    "else:\n",
    "    print(\"정답은\", x+y, \"입니다.\")"
   ]
  },
  {
   "attachments": {},
   "cell_type": "markdown",
   "metadata": {},
   "source": [
    "## 4.8"
   ]
  },
  {
   "cell_type": "code",
   "execution_count": 11,
   "metadata": {},
   "outputs": [
    {
     "name": "stdout",
     "output_type": "stream",
     "text": [
      "1)덧셈 2)뺄셈 3)곱셈 4)나눗셈\n",
      "연산을 원하는 숫자 두개를 입력하세요\n",
      "3 / 4 = 0.75\n"
     ]
    }
   ],
   "source": [
    "print('1)덧셈', '2)뺄셈', '3)곱셈', '4)나눗셈')\n",
    "\n",
    "operation = int(input(\"어떤 연산을 원하는지 번호를 입력하세요: \"))\n",
    "\n",
    "if operation not in [1, 2, 3, 4]:\n",
    "    print(\"잘못 입력하였습니다.\")\n",
    "else:\n",
    "    print('연산을 원하는 숫자 두개를 입력하세요')\n",
    "    num1, num2 = map(int,input(\"\").split())\n",
    "\n",
    "    if operation == 1:\n",
    "        result = num1 + num2\n",
    "        print(num1, '+', num2, '=', result)\n",
    "    elif operation == 2:\n",
    "        result = num1 - num2\n",
    "        print(num1, '-', num2,'=', result)\n",
    "    elif operation == 3:\n",
    "        result = num1 * num2\n",
    "        print(num1, '*', num2, '=', result)\n",
    "    elif operation == 4:\n",
    "        if num2 == 0:\n",
    "            print(\"0으로 나눌 수 없습니다.\")\n",
    "        else:\n",
    "            result = num1 / num2\n",
    "            print(num1, '/', num2, '=', result)"
   ]
  },
  {
   "attachments": {},
   "cell_type": "markdown",
   "metadata": {},
   "source": [
    "## 4.9"
   ]
  },
  {
   "cell_type": "code",
   "execution_count": 1,
   "metadata": {},
   "outputs": [
    {
     "ename": "AttributeError",
     "evalue": "'NoneType' object has no attribute 'split'",
     "output_type": "error",
     "traceback": [
      "\u001b[1;31m---------------------------------------------------------------------------\u001b[0m",
      "\u001b[1;31mAttributeError\u001b[0m                            Traceback (most recent call last)",
      "Cell \u001b[1;32mIn[1], line 5\u001b[0m\n\u001b[0;32m      1\u001b[0m \u001b[39mimport\u001b[39;00m \u001b[39mturtle\u001b[39;00m\n\u001b[0;32m      2\u001b[0m turtle\u001b[39m.\u001b[39mshape(\u001b[39m'\u001b[39m\u001b[39mturtle\u001b[39m\u001b[39m'\u001b[39m)\n\u001b[1;32m----> 5\u001b[0m left_bottom \u001b[39m=\u001b[39m turtle\u001b[39m.\u001b[39;49mtextinput(\u001b[39m\"\u001b[39;49m\u001b[39mPython Turtle Graphics\u001b[39;49m\u001b[39m\"\u001b[39;49m, \u001b[39m\"\u001b[39;49m\u001b[39m왼쪽 하단 모서리 좌표 (x, y): \u001b[39;49m\u001b[39m\"\u001b[39;49m)\u001b[39m.\u001b[39;49msplit(\u001b[39m\"\u001b[39m\u001b[39m \u001b[39m\u001b[39m\"\u001b[39m)\n\u001b[0;32m      6\u001b[0m left_bottom_x \u001b[39m=\u001b[39m \u001b[39mfloat\u001b[39m(left_bottom[\u001b[39m0\u001b[39m])\n\u001b[0;32m      7\u001b[0m left_bottom_y \u001b[39m=\u001b[39m \u001b[39mfloat\u001b[39m(left_bottom[\u001b[39m1\u001b[39m])\n",
      "\u001b[1;31mAttributeError\u001b[0m: 'NoneType' object has no attribute 'split'"
     ]
    },
    {
     "ename": "",
     "evalue": "",
     "output_type": "error",
     "traceback": [
      "\u001b[1;31m현재 셀 또는 이전 셀에서 코드를 실행하는 동안 Kernel이 충돌했습니다. 셀의 코드를 검토하여 오류의 가능한 원인을 식별하세요. 자세한 내용을 보려면 <a href='https://aka.ms/vscodeJupyterKernelCrash'> 여기 </a> 를 클릭하세요. 자세한 내용은 Jupyter <a href='command:jupyter.viewOutput'>로그</a>를 참조하세요."
     ]
    }
   ],
   "source": [
    "import turtle\n",
    "turtle.shape('turtle')\n",
    "\n",
    "\n",
    "left_bottom = turtle.textinput(\"Python Turtle Graphics\", \"왼쪽 하단 모서리 좌표 (x, y): \").split(\" \")\n",
    "left_bottom_x = float(left_bottom[0])\n",
    "left_bottom_y = float(left_bottom[1])\n",
    "\n",
    "right_top = turtle.textinput(\"Python Turtle Graphics\", \"오른쪽 상단 모서리 좌표 (x, y): \").split(\" \")\n",
    "right_top_x = float(right_top[0])\n",
    "right_top_y = float(right_top[1])\n",
    "\n",
    "point = turtle.textinput(\"Python Turtle Graphics\", \"임의의 점 좌표 (x, y): \").split(\" \")\n",
    "point_x = float(point[0])\n",
    "point_y = float(point[1])\n",
    "\n",
    "\n",
    "turtle.penup()\n",
    "turtle.goto(left_bottom_x, left_bottom_y)\n",
    "turtle.pendown()\n",
    "turtle.goto(right_top_x, left_bottom_y)\n",
    "turtle.goto(right_top_x, right_top_y)\n",
    "turtle.goto(left_bottom_x, right_top_y)\n",
    "turtle.goto(left_bottom_x, left_bottom_y)\n",
    "turtle.penup()\n",
    "\n",
    "turtle.goto(point_x, point_y)\n",
    "turtle.dot(20)\n",
    "\n",
    "if left_bottom_x < point_x < right_top_x and left_bottom_y < point_y < right_top_y:\n",
    "    turtle.write(\"점은 사각형의 내부에 있습니다.\")\n",
    "else:\n",
    "    turtle.write(\"점은 사각형의 외부에 있습니다.\")\n",
    "\n",
    "turtle.done()"
   ]
  },
  {
   "attachments": {},
   "cell_type": "markdown",
   "metadata": {},
   "source": []
  },
  {
   "attachments": {},
   "cell_type": "markdown",
   "metadata": {},
   "source": [
    "## 5.1 (1)"
   ]
  },
  {
   "cell_type": "code",
   "execution_count": 1,
   "metadata": {},
   "outputs": [
    {
     "name": "stdout",
     "output_type": "stream",
     "text": [
      "1에서 100까지의 수 중에서 홀수는 :\n",
      " 1 3 5 7 9 11 13 15 17 19 21 23 25 27 29 31 33 35 37 39 41 43 45 47 49 51 53 55 57 59 61 63 65 67 69 71 73 75 77 79 81 83 85 87 89 91 93 95 97 99\n"
     ]
    }
   ],
   "source": [
    "num=[]\n",
    "for i in range(1, 101):\n",
    "    if i % 2==1:\n",
    "        num.append(i)\n",
    "\n",
    "result = ' '.join(map(str, num))\n",
    "print('1에서 100까지의 수 중에서 홀수는 :\\n', result)"
   ]
  },
  {
   "attachments": {},
   "cell_type": "markdown",
   "metadata": {},
   "source": [
    "## 5.1 (2)"
   ]
  },
  {
   "cell_type": "code",
   "execution_count": 2,
   "metadata": {},
   "outputs": [
    {
     "name": "stdout",
     "output_type": "stream",
     "text": [
      "1에서 100까지의 수 중에서 홀수는 :\n",
      "1 3 5 7 9 11 13 15 17 19 21 23 25 27 29 31 33 35 37 39 41 43 45 47 49 51 53 55 57 59 61 63 65 67 69 71 73 75 77 79 81 83 85 87 89 91 93 95 97 99 \n"
     ]
    }
   ],
   "source": [
    "num = 1\n",
    "\n",
    "print('1에서 100까지의 수 중에서 홀수는 :')\n",
    "while num <= 100:\n",
    "    if num % 2 == 1:\n",
    "        print(num, end=' ')\n",
    "    num += 1\n",
    "    \n",
    "print()"
   ]
  },
  {
   "attachments": {},
   "cell_type": "markdown",
   "metadata": {},
   "source": [
    "## 5.1 (3)"
   ]
  },
  {
   "cell_type": "code",
   "execution_count": 3,
   "metadata": {},
   "outputs": [
    {
     "name": "stdout",
     "output_type": "stream",
     "text": [
      "1에서 100까지의 수 중에서 짝수는 :\n",
      "2 4 6 8 10 12 14 16 18 20 22 24 26 28 30 32 34 36 38 40 42 44 46 48 50 52 54 56 58 60 62 64 66 68 70 72 74 76 78 80 82 84 86 88 90 92 94 96 98 100 "
     ]
    }
   ],
   "source": [
    "print('1에서 100까지의 수 중에서 짝수는 :')\n",
    "\n",
    "for number in range(1, 101):\n",
    "    if number % 2 == 0:\n",
    "        print(number, end=' ')"
   ]
  },
  {
   "cell_type": "code",
   "execution_count": 4,
   "metadata": {},
   "outputs": [
    {
     "name": "stdout",
     "output_type": "stream",
     "text": [
      "1에서 100까지의 수 중에서 짝수는 :\n",
      "2 4 6 8 10 12 14 16 18 20 22 24 26 28 30 32 34 36 38 40 42 44 46 48 50 52 54 56 58 60 62 64 66 68 70 72 74 76 78 80 82 84 86 88 90 92 94 96 98 100 \n"
     ]
    }
   ],
   "source": [
    "number = 1\n",
    "print('1에서 100까지의 수 중에서 짝수는 :')\n",
    "\n",
    "\n",
    "while number <= 100:\n",
    "    if number % 2 == 0:\n",
    "        print(number, end=' ')\n",
    "    number += 1  \n",
    "\n",
    "print()"
   ]
  },
  {
   "attachments": {},
   "cell_type": "markdown",
   "metadata": {},
   "source": [
    "## 5.2 (1)"
   ]
  },
  {
   "cell_type": "code",
   "execution_count": 5,
   "metadata": {},
   "outputs": [
    {
     "name": "stdout",
     "output_type": "stream",
     "text": [
      "1에서 100까지의 홀수의 합 : 2500\n"
     ]
    }
   ],
   "source": [
    "sum = 0\n",
    "\n",
    "for num in range(1, 101):\n",
    "    if num % 2 == 1:\n",
    "        sum += num\n",
    "\n",
    "print(\"1에서 100까지의 홀수의 합 :\", sum)"
   ]
  },
  {
   "cell_type": "code",
   "execution_count": 6,
   "metadata": {},
   "outputs": [
    {
     "name": "stdout",
     "output_type": "stream",
     "text": [
      "1에서 100까지의 홀수의 합 : 2500\n"
     ]
    }
   ],
   "source": [
    "sum = 0\n",
    "num = 1\n",
    "while num <= 100:\n",
    "    if num % 2 == 1:\n",
    "        sum += num\n",
    "    num += 1\n",
    "\n",
    "print(\"1에서 100까지의 홀수의 합 :\", sum)"
   ]
  },
  {
   "attachments": {},
   "cell_type": "markdown",
   "metadata": {},
   "source": [
    "## 5.2 (2)"
   ]
  },
  {
   "cell_type": "code",
   "execution_count": 7,
   "metadata": {},
   "outputs": [
    {
     "name": "stdout",
     "output_type": "stream",
     "text": [
      "1에서 100까지의 짝수의 합 : 2550\n"
     ]
    }
   ],
   "source": [
    "sum = 0\n",
    "\n",
    "for num in range(1, 101):\n",
    "    if num % 2 == 0:\n",
    "        sum += num\n",
    "\n",
    "print(\"1에서 100까지의 짝수의 합 :\", sum)"
   ]
  },
  {
   "cell_type": "code",
   "execution_count": 8,
   "metadata": {},
   "outputs": [
    {
     "name": "stdout",
     "output_type": "stream",
     "text": [
      "1에서 100까지의 짝수의 합 : 2550\n"
     ]
    }
   ],
   "source": [
    "sum = 0\n",
    "num = 1\n",
    "while num <= 100:\n",
    "    if num % 2 == 0:\n",
    "        sum += num\n",
    "    num += 1\n",
    "\n",
    "print(\"1에서 100까지의 짝수의 합 :\", sum)"
   ]
  },
  {
   "attachments": {},
   "cell_type": "markdown",
   "metadata": {},
   "source": [
    "## 5.2 (3)"
   ]
  },
  {
   "cell_type": "code",
   "execution_count": 9,
   "metadata": {},
   "outputs": [
    {
     "name": "stdout",
     "output_type": "stream",
     "text": [
      "2에서 6까지의 정수의 합 : 20\n"
     ]
    }
   ],
   "source": [
    "start = int(input(\"시작 정수를 입력하세요: \"))\n",
    "end = int(input(\"끝 정수를 입력하세요: \"))\n",
    "\n",
    "total = 0\n",
    "for num in range(start, end + 1):\n",
    "    total += num\n",
    "\n",
    "print(f\"{start}에서 {end}까지의 정수의 합 : {total}\")"
   ]
  },
  {
   "attachments": {},
   "cell_type": "markdown",
   "metadata": {},
   "source": [
    "## 5.3"
   ]
  },
  {
   "cell_type": "code",
   "execution_count": 10,
   "metadata": {},
   "outputs": [
    {
     "name": "stdout",
     "output_type": "stream",
     "text": [
      "맛나 식당에 오신 것을 환영합니다. 메뉴는 다음과 같습니다:\n",
      "1) 햄버거\n",
      "2) 치킨\n",
      "3) 피자\n",
      "치킨을 선택하였습니다.\n"
     ]
    }
   ],
   "source": [
    "menu = {\n",
    "    1: '햄버거',\n",
    "    2: '치킨',\n",
    "    3: '피자',\n",
    "}\n",
    "\n",
    "print('맛나 식당에 오신 것을 환영합니다. 메뉴는 다음과 같습니다:')\n",
    "print('1) 햄버거\\n2) 치킨\\n3) 피자')\n",
    "\n",
    "order = input(('1에서 3까지의 메뉴를 선택하세요 : '))\n",
    "while True:\n",
    "        if order in menu:\n",
    "            print(\"{}을 선택하였습니다.\".format(menu[order]))\n",
    "            break\n",
    "        else:\n",
    "            order = int(input('메뉴를 다시 입력하세요 : '))"
   ]
  },
  {
   "attachments": {},
   "cell_type": "markdown",
   "metadata": {},
   "source": [
    "## 5.4"
   ]
  },
  {
   "cell_type": "code",
   "execution_count": 11,
   "metadata": {},
   "outputs": [
    {
     "name": "stdout",
     "output_type": "stream",
     "text": [
      "    *\n",
      "   **\n",
      "  ***\n",
      " ****\n",
      "*****\n"
     ]
    }
   ],
   "source": [
    "x = int(input('숫자를 입력하세요: '))\n",
    "i = 1 * '*'\n",
    "\n",
    "while i <= x * '*':\n",
    "    spaces = x - len(i)\n",
    "    print(' ' * spaces, end='')\n",
    "\n",
    "    print(i, end=\"\\n\")\n",
    "    i = i + 1 * '*'"
   ]
  },
  {
   "cell_type": "code",
   "execution_count": 12,
   "metadata": {},
   "outputs": [
    {
     "name": "stdout",
     "output_type": "stream",
     "text": [
      "    *\n",
      "   **\n",
      "  ***\n",
      " ****\n",
      "*****\n"
     ]
    }
   ],
   "source": [
    "x = int(input(\"숫자를 입력하세요 : \"))\n",
    "\n",
    "for i in range(1, x + 1):\n",
    "    for j in range(x - i):\n",
    "        print(\" \", end=\"\")\n",
    "    \n",
    "    for k in range(i):\n",
    "        print(\"*\", end=\"\")\n",
    "    print()"
   ]
  },
  {
   "attachments": {},
   "cell_type": "markdown",
   "metadata": {},
   "source": [
    "## 5.5"
   ]
  },
  {
   "cell_type": "code",
   "execution_count": 13,
   "metadata": {},
   "outputs": [
    {
     "name": "stdout",
     "output_type": "stream",
     "text": [
      "day : 1 달팽이의 위치 :  2 미터\n",
      "day : 2 달팽이의 위치 :  4 미터\n",
      "day : 3 달팽이의 위치 :  6 미터\n",
      "day : 4 달팽이의 위치 :  8 미터\n",
      "day : 5 달팽이의 위치 : 10 미터\n",
      "day : 6 달팽이의 위치 : 12 미터\n",
      "day : 7 달팽이의 위치 : 14 미터\n",
      "day : 8 달팽이의 위치 : 16 미터\n",
      "day : 9 달팽이의 위치 : 18 미터\n",
      "day : 10 달팽이의 위치 : 20 미터\n",
      "day : 11 달팽이의 위치 : 22 미터\n",
      "day : 12 달팽이의 위치 : 24 미터\n",
      "축하합니다. 우물을 탈출하였습니다.\n",
      "우물을 탈출하는 데 걸린 날은 13일 입니다.\n"
     ]
    }
   ],
   "source": [
    "depth = 30\n",
    "daily_climb = 7\n",
    "night_slip = 5\n",
    "progress = 0\n",
    "days = 0\n",
    "\n",
    "while progress < depth:\n",
    "    days += 1\n",
    "    progress += daily_climb\n",
    "    if progress >= depth:\n",
    "        break\n",
    "    progress -= night_slip\n",
    "    print(\"day : {} 달팽이의 위치 : {:>2} 미터\".format(days, progress))\n",
    "print(\"축하합니다. 우물을 탈출하였습니다.\")\n",
    "print(\"우물을 탈출하는 데 걸린 날은 {}일 입니다.\".format(days))"
   ]
  },
  {
   "attachments": {},
   "cell_type": "markdown",
   "metadata": {},
   "source": [
    "## 5.6"
   ]
  },
  {
   "cell_type": "code",
   "execution_count": 14,
   "metadata": {},
   "outputs": [
    {
     "name": "stdout",
     "output_type": "stream",
     "text": [
      "현재 탱크양은 560 입니다.\n",
      "현재 탱크양은 260 입니다.\n",
      "현재 탱크양은 40 입니다.\n",
      "경고: 연료가 10% 미만이니 충전하세요!\n"
     ]
    }
   ],
   "source": [
    "연료 = 500\n",
    "for i in range(3):\n",
    "    x = int(input('충전 또는 사용한 연료를 +/- 기호와 함께 입력하시오: '))\n",
    "    연료 += x\n",
    "    print('현재 탱크양은', 연료, '입니다.')\n",
    "while 연료 < 50:\n",
    "    print(\"경고: 연료가 10% 미만이니 충전하세요!\")\n",
    "    break"
   ]
  },
  {
   "attachments": {},
   "cell_type": "markdown",
   "metadata": {},
   "source": [
    "## 5.7"
   ]
  },
  {
   "cell_type": "code",
   "execution_count": 15,
   "metadata": {},
   "outputs": [
    {
     "name": "stdout",
     "output_type": "stream",
     "text": [
      "세 자리의 암스트롱 수: 153 370 371 407 "
     ]
    }
   ],
   "source": [
    "def is_armstrong_number(number):\n",
    "\n",
    "    x = number // 100\n",
    "    y = (number % 100) // 10\n",
    "    z = number % 10\n",
    "    \n",
    "    sum_of_cubes = x**3 + y**3 + z**3\n",
    "    \n",
    "    return number == sum_of_cubes\n",
    "\n",
    "armstrong_numbers = []\n",
    "for number in range(100, 1000):\n",
    "    if is_armstrong_number(number):\n",
    "        armstrong_numbers.append(number)\n",
    "\n",
    "print(\"세 자리의 암스트롱 수:\", end=' ')\n",
    "for number in armstrong_numbers:\n",
    "    print(number, end=' ')"
   ]
  },
  {
   "attachments": {},
   "cell_type": "markdown",
   "metadata": {},
   "source": [
    "## 5.8"
   ]
  },
  {
   "cell_type": "code",
   "execution_count": 16,
   "metadata": {},
   "outputs": [
    {
     "name": "stdout",
     "output_type": "stream",
     "text": [
      "3443은 정수입니다.\n",
      "324은 정수가 아닙니다.\n",
      "프로그램을 종료합니다\n"
     ]
    }
   ],
   "source": [
    "while True:\n",
    "    try:\n",
    "        num = int(input(\"정수를 입력하세요\"))\n",
    "    except:\n",
    "        print(\"숫자를 입력하세요\")\n",
    "        continue\n",
    "        \n",
    "    if num == -99:\n",
    "        print(\"프로그램을 종료합니다\")\n",
    "        break\n",
    "    if str(num) == str(num)[::-1]:\n",
    "        print(f\"{num}은 정수입니다.\")\n",
    "    else:\n",
    "        print(f\"{num}은 정수가 아닙니다.\")"
   ]
  },
  {
   "attachments": {},
   "cell_type": "markdown",
   "metadata": {},
   "source": [
    "## 5.9"
   ]
  },
  {
   "cell_type": "code",
   "execution_count": 17,
   "metadata": {},
   "outputs": [
    {
     "name": "stdout",
     "output_type": "stream",
     "text": [
      "4개의 유효한 정수중 가장 큰 정수는 920 이고, 가장 작은 정수는 30 입니다.\n"
     ]
    }
   ],
   "source": [
    "largest = None\n",
    "smallest = None\n",
    "count = 0\n",
    "\n",
    "while True:\n",
    "    try:\n",
    "        num = input(\"정수를 입력하시오: \")\n",
    "\n",
    "        if num == \"-99\":\n",
    "            break\n",
    "\n",
    "        num = int(num)\n",
    "\n",
    "        if count == 0:\n",
    "            largest = num\n",
    "            smallest = num\n",
    "        else:\n",
    "            if num > largest:\n",
    "                largest = num\n",
    "            if num < smallest:\n",
    "                smallest = num\n",
    "\n",
    "        count += 1\n",
    "    except ValueError:\n",
    "        print(\"올바른 정수를 입력하세요.\")\n",
    "\n",
    "if count > 0:\n",
    "    print(f\"{count}개의 유효한 정수중 가장 큰 정수는 {largest} 이고, 가장 작은 정수는 {smallest} 입니다.\")\n",
    "else:\n",
    "    print(\"입력된 유효한 정수가 없습니다.\")"
   ]
  },
  {
   "attachments": {},
   "cell_type": "markdown",
   "metadata": {},
   "source": [
    "## 5.10"
   ]
  },
  {
   "cell_type": "code",
   "execution_count": 18,
   "metadata": {},
   "outputs": [],
   "source": [
    "import turtle\n",
    "import random\n",
    "\n",
    "t = turtle.Turtle()\n",
    "t.shape(\"turtle\")\n",
    "t.speed(1)\n",
    "\n",
    "for _ in range(30):\n",
    "    choice = random.randrange(2)\n",
    "    if choice == 0:\n",
    "        t.left(90)\n",
    "    else:\n",
    "        t.right(90)\n",
    "    t.forward(50)\n",
    "\n",
    "turtle.done()"
   ]
  },
  {
   "cell_type": "code",
   "execution_count": null,
   "metadata": {},
   "outputs": [],
   "source": [
    "import turtle\n",
    "import random\n",
    "\n",
    "t = turtle.Turtle()\n",
    "t.shape(\"turtle\")\n",
    "t.speed(1)\n",
    "\n",
    "count = 0\n",
    "while count < 30:\n",
    "    choice = random.randrange(2)\n",
    "    if choice == 0:\n",
    "        t.left(90)\n",
    "    else:\n",
    "        t.right(90)\n",
    "    t.forward(50)\n",
    "    count += 1\n"
   ]
  },
  {
   "cell_type": "code",
   "execution_count": null,
   "metadata": {},
   "outputs": [],
   "source": []
  }
 ],
 "metadata": {
  "kernelspec": {
   "display_name": "Python 3",
   "language": "python",
   "name": "python3"
  },
  "language_info": {
   "codemirror_mode": {
    "name": "ipython",
    "version": 3
   },
   "file_extension": ".py",
   "mimetype": "text/x-python",
   "name": "python",
   "nbconvert_exporter": "python",
   "pygments_lexer": "ipython3",
   "version": "3.11.3"
  },
  "orig_nbformat": 4
 },
 "nbformat": 4,
 "nbformat_minor": 2
}
